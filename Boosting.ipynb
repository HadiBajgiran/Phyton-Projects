{
 "cells": [
  {
   "cell_type": "code",
   "execution_count": null,
   "id": "e9ff9a77-06dd-4be8-b611-7e7a572bdb72",
   "metadata": {},
   "outputs": [],
   "source": [
    "#Generic Libraries\n",
    "import numpy as np      # linear algebra\n",
    "import pandas as pd     # data processing, CSV file I/O (e.g. pd.read_csv)\n",
    "import os                        # read or write a file\n",
    "import csv                      # save in CSV file\n",
    "import sklearn\n",
    "\n",
    "#SK Learn Libraries\n",
    "from sklearn.ensemble import GradientBoostingClassifier\n",
    "from sklearn.preprocessing import StandardScaler\n",
    "from sklearn.preprocessing import OneHotEncoder"
   ]
  },
  {
   "cell_type": "code",
   "execution_count": null,
   "id": "26a62c3b-0caa-4948-a35b-d386edc0ffce",
   "metadata": {},
   "outputs": [],
   "source": [
    "# Load Train and Test set\n",
    "datatraincat = pd.read_csv('train.csv', header='infer')\n",
    "datatestcat = pd.read_csv('test.csv', header='infer')"
   ]
  },
  {
   "cell_type": "code",
   "execution_count": null,
   "id": "b6dceebf-c728-4797-9b94-7675f9a46d43",
   "metadata": {},
   "outputs": [],
   "source": [
    "##OneHotEncoder pour les variables difflevel et country Pour Datatrain\n",
    "datatrain = pd.get_dummies(datatraincat, columns = ['difflevel', 'country'])\n",
    "datatest = pd.get_dummies(datatestcat, columns = ['difflevel', 'country'])"
   ]
  },
  {
   "cell_type": "code",
   "execution_count": null,
   "id": "7373e3a1-4a3c-43fb-8ed5-ea4b2b625061",
   "metadata": {},
   "outputs": [],
   "source": [
    "# Converting type of columns to category \n",
    "datatrain['y'] = datatrain['y'].astype('category').cat.codes"
   ]
  },
  {
   "cell_type": "code",
   "execution_count": null,
   "id": "4506e673-46a7-468c-bb59-f117274822aa",
   "metadata": {},
   "outputs": [],
   "source": [
    "## Seperating Predictors and Outcome values from train and test sets\n",
    "X_train = pd.DataFrame(datatrain.drop(['y'],axis=1))\n",
    "y_train = datatrain['y']\n",
    "X_test = pd.DataFrame(datatest.drop(['id'],axis=1))"
   ]
  },
  {
   "cell_type": "code",
   "execution_count": null,
   "id": "7d6cd3ac-9ba7-4f5f-aa62-39a1054a04d8",
   "metadata": {},
   "outputs": [],
   "source": [
    "# Scaling the Train and Test feature set \n",
    "from sklearn.preprocessing import StandardScaler    \n",
    "scaler= StandardScaler()    \n",
    "X_train= scaler.fit_transform(X_train)    \n",
    "X_test= scaler.transform(X_test)"
   ]
  },
  {
   "cell_type": "code",
   "execution_count": null,
   "id": "03330490-8ca9-486f-bdd5-c878ffe78b2d",
   "metadata": {},
   "outputs": [],
   "source": [
    "# Option 1- Boosting Model\n",
    "clf = GradientBoostingClassifier( n_estimators=450, learning_rate=0.1, max_depth=2, random_state=1)\n",
    "\n",
    "# Fit model to training data\n",
    "clf.fit(X_train, y_train)\n",
    "\n",
    "# Prediction \n",
    "predict2=clf.predict(X_test)"
   ]
  },
  {
   "cell_type": "code",
   "execution_count": null,
   "id": "085080f9-77e2-4e99-85ab-c8cfd8576ad4",
   "metadata": {},
   "outputs": [],
   "source": [
    "# Option 2- Boosting Model avec OVO\n",
    "\n",
    "# Boosting Model\n",
    "clf = GradientBoostingClassifier( n_estimators=538,learning_rate=0.1, max_depth=2, random_state=1)\n",
    "ovo = OneVsOneClassifier(clf)\n",
    "\n",
    "# Fit model to training data\n",
    "ovo.fit(X_train, y_train)\n",
    "\n",
    "# Prediction \n",
    "predict2=ovo.predict(X_test)"
   ]
  },
  {
   "cell_type": "code",
   "execution_count": null,
   "id": "543ba80a-c036-4d66-be1f-bba04776b9f4",
   "metadata": {},
   "outputs": [],
   "source": [
    "# Option 3- Boosting Model avec OVR\n",
    "\n",
    "# Boosting Model\n",
    "clf = GradientBoostingClassifier( n_estimators=580,learning_rate=0.1, max_depth=2, random_state=1)\n",
    "ovr = OneVsRestClassifier(clf)\n",
    "\n",
    "# Fit model to training data\n",
    "ovr.fit(X_train, y_train)\n",
    "\n",
    "# Prediction \n",
    "predict2=ovr.predict(X_test)"
   ]
  },
  {
   "cell_type": "code",
   "execution_count": null,
   "id": "9ec398a2-1780-4517-aa2a-5ff8e5ba2b9b",
   "metadata": {},
   "outputs": [],
   "source": [
    "#Save to CSV file\n",
    "predic=pd.DataFrame(predict2,columns=['y'])\n",
    "predic['id']=datatest['id']\n",
    "predic=predic[['id','y']]\n",
    "type(predic['y'])\n",
    "predic['y'].astype(int)\n",
    "predic['y']=predic['y']+1\n",
    "predic\n",
    "predic.to_csv(r'C:/..../out.csv',index=False)"
   ]
  }
 ],
 "metadata": {
  "kernelspec": {
   "display_name": "Python 3 (ipykernel)",
   "language": "python",
   "name": "python3"
  },
  "language_info": {
   "codemirror_mode": {
    "name": "ipython",
    "version": 3
   },
   "file_extension": ".py",
   "mimetype": "text/x-python",
   "name": "python",
   "nbconvert_exporter": "python",
   "pygments_lexer": "ipython3",
   "version": "3.9.13"
  }
 },
 "nbformat": 4,
 "nbformat_minor": 5
}
