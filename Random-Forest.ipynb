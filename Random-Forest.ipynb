{
 "cells": [
  {
   "cell_type": "code",
   "execution_count": null,
   "id": "d3ad89a3-7c58-4a3b-8428-c60706ca7b92",
   "metadata": {},
   "outputs": [],
   "source": [
    "#Generic Libraries\n",
    "import numpy as np      # linear algebra\n",
    "import pandas as pd     # data processing, CSV file I/O (e.g. pd.read_csv)\n",
    "import os                        # read or write a file\n",
    "import csv                      # save in CSV file\n",
    "import sklearn\n",
    "\n",
    "from sklearn.ensemble import RandomForestClassifier\n",
    "from sklearn.datasets import make_classification\n",
    "from sklearn.preprocessing import OneHotEncoder"
   ]
  },
  {
   "cell_type": "code",
   "execution_count": null,
   "id": "37288657-3792-4e36-9965-7f162381286d",
   "metadata": {},
   "outputs": [],
   "source": [
    "# Load Train and Test set\n",
    "datatraincat = pd.read_csv('train.csv', header='infer')\n",
    "datatestcat = pd.read_csv('test.csv', header='infer')"
   ]
  },
  {
   "cell_type": "code",
   "execution_count": null,
   "id": "e5594825-bf14-4756-9112-5a8993435a71",
   "metadata": {},
   "outputs": [],
   "source": [
    "# Converting type of columns to category \n",
    "datatraincat['y'] = datatraincat['y'].astype('category').cat.codes"
   ]
  },
  {
   "cell_type": "code",
   "execution_count": null,
   "id": "c39e484b-ee6b-4eb9-a7ad-7868e0f60bbb",
   "metadata": {},
   "outputs": [],
   "source": [
    "#OneHotEncoder pour les variables difflevel et country Pour Datatrain\n",
    "datatrain = pd.get_dummies(datatraincat, columns = ['difflevel', 'country'])\n",
    "datatest = pd.get_dummies(datatestcat, columns = ['difflevel', 'country'])"
   ]
  },
  {
   "cell_type": "code",
   "execution_count": null,
   "id": "9473cca7-fb40-44e9-8e4f-b8fd39320618",
   "metadata": {},
   "outputs": [],
   "source": [
    "# Random Forest Model\n",
    "clf = RandomForestClassifier(n_estimators=245,criterion='entropy', max_depth=30, random_state=1)\n",
    "\n",
    "# Fit model to training data\n",
    "clf.fit(X_train, y_train)\n",
    "\n",
    "# Prediction \n",
    "predict=clf.predict(X_test)"
   ]
  },
  {
   "cell_type": "code",
   "execution_count": null,
   "id": "39346828-5423-4e8d-a26d-d9c9a2674b91",
   "metadata": {},
   "outputs": [],
   "source": [
    "#Adding Predictions to Test Dataset\n",
    "forest_dc = X_test.copy()\n",
    "forest_dc.insert(2,\"y\",predict, True)\n",
    "# The index should start from 1 instead of 0\n",
    "df = pd.Series(range(1,55001),name = \"id\")\n",
    "ID = df\n",
    "\n",
    "forest_new=forest_dc.join(ID)\n",
    "forest_d=forest_new[['id','y']]"
   ]
  },
  {
   "cell_type": "code",
   "execution_count": null,
   "id": "1781e55b-b599-40a8-9055-f09292fa603b",
   "metadata": {},
   "outputs": [],
   "source": [
    "#Save to CSV file\n",
    "predic=pd.DataFrame(predict2,columns=['y'])\n",
    "predic['id']=datatest['id']\n",
    "predic=predic[['id','y']]\n",
    "type(predic['y'])\n",
    "predic['y'].astype(int)\n",
    "predic['y']=predic['y']+1\n",
    "predic\n",
    "predic.to_csv(r'C:/.../out2.csv',index=False)"
   ]
  }
 ],
 "metadata": {
  "kernelspec": {
   "display_name": "Python 3 (ipykernel)",
   "language": "python",
   "name": "python3"
  },
  "language_info": {
   "codemirror_mode": {
    "name": "ipython",
    "version": 3
   },
   "file_extension": ".py",
   "mimetype": "text/x-python",
   "name": "python",
   "nbconvert_exporter": "python",
   "pygments_lexer": "ipython3",
   "version": "3.9.13"
  }
 },
 "nbformat": 4,
 "nbformat_minor": 5
}
